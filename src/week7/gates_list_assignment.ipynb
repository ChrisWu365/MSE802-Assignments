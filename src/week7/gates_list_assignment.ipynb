{
 "cells": [
  {
   "cell_type": "code",
   "execution_count": 3,
   "id": "e2a15028",
   "metadata": {},
   "outputs": [
    {
     "name": "stdout",
     "output_type": "stream",
     "text": [
      "X Statevector:\n",
      "[0.+0.j 1.+0.j]\n",
      "\n",
      "H Statevector:\n",
      "[ 0.70710678+0.j -0.70710678+0.j]\n",
      "\n",
      "Y Statevector:\n",
      "[0.+0.70710678j 0.+0.70710678j]\n",
      "\n",
      "Z Statevector:\n",
      "[0.+0.70710678j 0.-0.70710678j]\n",
      "\n",
      "S Statevector:\n",
      "[0.        +0.70710678j 0.70710678+0.j        ]\n",
      "\n",
      "T Statevector:\n",
      "[0. +0.70710678j 0.5+0.5j       ]\n",
      "\n",
      "RX(theta) Statevector:\n",
      "[0.35355339+0.14644661j 0.85355339+0.35355339j]\n",
      "\n",
      "RY(theta) Statevector:\n",
      "[-0.35355339-0.14644661j  0.85355339+0.35355339j]\n",
      "\n",
      "RZ(theta) Statevector:\n",
      "[-0.35355339+0.14644661j  0.35355339+0.85355339j]\n",
      "\n",
      "Quantum Circuit:\n",
      "   ┌───┐┌───┐┌───┐┌───┐┌───┐┌───┐┌─────────┐┌─────────┐┌─────────┐\n",
      "q: ┤ X ├┤ H ├┤ Y ├┤ Z ├┤ S ├┤ T ├┤ Rx(π/2) ├┤ Ry(π/2) ├┤ Rz(π/2) ├\n",
      "   └───┘└───┘└───┘└───┘└───┘└───┘└─────────┘└─────────┘└─────────┘\n"
     ]
    }
   ],
   "source": [
    "from qiskit import QuantumCircuit\n",
    "from qiskit.quantum_info import Statevector\n",
    "import numpy as np\n",
    "\n",
    "# create quantum circuit with 1 qubit\n",
    "qc = QuantumCircuit(1)\n",
    "\n",
    "# Define rotation angle theta\n",
    "theta = np.pi / 2\n",
    "\n",
    "# List of gates to apply\n",
    "gates_list = [\n",
    "    (\"X\", lambda: qc.x(0)), # Pauli-X gate (bit-flip, NOT gate)\n",
    "    (\"H\", lambda: qc.h(0)), # Hadamard gate (creates superposition)\n",
    "    (\"Y\", lambda: qc.y(0)), # Pauli-Y gate (bit and phase flip)\n",
    "    (\"Z\", lambda: qc.z(0)), # Pauli-Z gate (phase-flip)\n",
    "    (\"S\", lambda: qc.s(0)), # S gate (phase gate, 90-degree rotation)\n",
    "    (\"T\", lambda: qc.t(0)), # T gate (π/4 phase gate)\n",
    "    (\"RX(theta)\", lambda: qc.rx(theta, 0)), # Rotation around X-axis by theta\n",
    "    (\"RY(theta)\", lambda: qc.ry(theta, 0)), # Rotation around Y-axis by theta\n",
    "    (\"RZ(theta)\", lambda: qc.rz(theta, 0)), # Rotation around Z-axis by theta\n",
    "]\n",
    "\n",
    "# Apply each gate and print Statevector\n",
    "for name, gate in gates_list:\n",
    "    gate()\n",
    "    statevector = Statevector(qc)\n",
    "    print(f\"{name} Statevector:\\n{statevector.data}\\n\")\n",
    "\n",
    "# Draw the full circuit\n",
    "print(\"Quantum Circuit:\")\n",
    "print(qc.draw())\n"
   ]
  }
 ],
 "metadata": {
  "kernelspec": {
   "display_name": "MSE800Env",
   "language": "python",
   "name": "python3"
  },
  "language_info": {
   "codemirror_mode": {
    "name": "ipython",
    "version": 3
   },
   "file_extension": ".py",
   "mimetype": "text/x-python",
   "name": "python",
   "nbconvert_exporter": "python",
   "pygments_lexer": "ipython3",
   "version": "3.12.9"
  }
 },
 "nbformat": 4,
 "nbformat_minor": 5
}
