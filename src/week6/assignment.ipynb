{
 "cells": [
  {
   "cell_type": "code",
   "execution_count": 14,
   "id": "4a7d1e1f",
   "metadata": {},
   "outputs": [
    {
     "name": "stdout",
     "output_type": "stream",
     "text": [
      "Simulator result counts: {'01': 502, '00': 522}\n"
     ]
    }
   ],
   "source": [
    "from qiskit import QuantumCircuit\n",
    "from qiskit_aer import Aer\n",
    "\n",
    "# Create a 2-qubit quantum circuit\n",
    "qc = QuantumCircuit(2, 2)\n",
    "\n",
    "qc.x(0)  # apply X gate on q0 to flip |0> to |1>\n",
    "\n",
    "qc.x(0)        # X gate on q0\n",
    "qc.cx(0, 1)    # CNOT with control=q0 and target=q1\n",
    "qc.h(0)        # Hadamard gate on q0\n",
    "\n",
    "# Measurement\n",
    "qc.measure([0, 1], [0, 1])\n",
    "\n",
    "# Simulate the circuit\n",
    "simulator = Aer.get_backend('qasm_simulator')\n",
    "result = simulator.run(qc, shots=1024).result()\n",
    "counts = result.get_counts(qc)\n",
    "\n",
    "# Simulator result counts\n",
    "print(\"Simulator result counts:\", counts)\n"
   ]
  }
 ],
 "metadata": {
  "kernelspec": {
   "display_name": "MSE800Env",
   "language": "python",
   "name": "python3"
  },
  "language_info": {
   "codemirror_mode": {
    "name": "ipython",
    "version": 3
   },
   "file_extension": ".py",
   "mimetype": "text/x-python",
   "name": "python",
   "nbconvert_exporter": "python",
   "pygments_lexer": "ipython3",
   "version": "3.12.9"
  }
 },
 "nbformat": 4,
 "nbformat_minor": 5
}
