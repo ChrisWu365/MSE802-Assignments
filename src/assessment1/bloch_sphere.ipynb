{
 "cells": [
  {
   "cell_type": "code",
   "execution_count": 4,
   "id": "1b133725",
   "metadata": {},
   "outputs": [],
   "source": [
    "from qiskit.visualization import plot_bloch_vector\n",
    "import matplotlib.pyplot as plt\n",
    "from numpy import sqrt\n",
    "\n",
    "# Define a quantum state vector\n",
    "# Example: |ψ⟩ = 1/√2 (|0⟩ + |1⟩) → x=1, y=0, z=0 (on equator)\n",
    "bloch_vector = [1, 0, 0]  # x, y, z components\n",
    "\n",
    "# Plot the Bloch sphere\n",
    "plot_bloch_vector(bloch_vector, title='Bloch Sphere Representation')\n",
    "plt.show()\n"
   ]
  },
  {
   "cell_type": "code",
   "execution_count": 5,
   "id": "620eae88",
   "metadata": {},
   "outputs": [
    {
     "ename": "MissingOptionalLibraryError",
     "evalue": "\"The 'pylatexenc' library is required to use 'MatplotlibDrawer'. You can install it with 'pip install pylatexenc'.\"",
     "output_type": "error",
     "traceback": [
      "\u001b[31m---------------------------------------------------------------------------\u001b[39m",
      "\u001b[31mMissingOptionalLibraryError\u001b[39m               Traceback (most recent call last)",
      "\u001b[36mCell\u001b[39m\u001b[36m \u001b[39m\u001b[32mIn[5]\u001b[39m\u001b[32m, line 15\u001b[39m\n\u001b[32m     12\u001b[39m qc.cx(\u001b[32m0\u001b[39m, \u001b[32m1\u001b[39m)\n\u001b[32m     14\u001b[39m \u001b[38;5;66;03m# Draw the circuit\u001b[39;00m\n\u001b[32m---> \u001b[39m\u001b[32m15\u001b[39m qc.draw(\u001b[33m'\u001b[39m\u001b[33mmpl\u001b[39m\u001b[33m'\u001b[39m)  \u001b[38;5;66;03m# 'mpl' uses Matplotlib to render as image\u001b[39;00m\n\u001b[32m     16\u001b[39m plt.show()\n",
      "\u001b[36mFile \u001b[39m\u001b[32md:\\Users\\wukangrong\\anaconda3\\envs\\MSE800Env\\Lib\\site-packages\\qiskit\\circuit\\quantumcircuit.py:3800\u001b[39m, in \u001b[36mQuantumCircuit.draw\u001b[39m\u001b[34m(self, output, scale, filename, style, interactive, plot_barriers, reverse_bits, justify, vertical_compression, idle_wires, with_layout, fold, ax, initial_state, cregbundle, wire_order, expr_len)\u001b[39m\n\u001b[32m   3797\u001b[39m \u001b[38;5;66;03m# pylint: disable=cyclic-import\u001b[39;00m\n\u001b[32m   3798\u001b[39m \u001b[38;5;28;01mfrom\u001b[39;00m\u001b[38;5;250m \u001b[39m\u001b[34;01mqiskit\u001b[39;00m\u001b[34;01m.\u001b[39;00m\u001b[34;01mvisualization\u001b[39;00m\u001b[38;5;250m \u001b[39m\u001b[38;5;28;01mimport\u001b[39;00m circuit_drawer\n\u001b[32m-> \u001b[39m\u001b[32m3800\u001b[39m \u001b[38;5;28;01mreturn\u001b[39;00m circuit_drawer(\n\u001b[32m   3801\u001b[39m     \u001b[38;5;28mself\u001b[39m,\n\u001b[32m   3802\u001b[39m     scale=scale,\n\u001b[32m   3803\u001b[39m     filename=filename,\n\u001b[32m   3804\u001b[39m     style=style,\n\u001b[32m   3805\u001b[39m     output=output,\n\u001b[32m   3806\u001b[39m     interactive=interactive,\n\u001b[32m   3807\u001b[39m     plot_barriers=plot_barriers,\n\u001b[32m   3808\u001b[39m     reverse_bits=reverse_bits,\n\u001b[32m   3809\u001b[39m     justify=justify,\n\u001b[32m   3810\u001b[39m     vertical_compression=vertical_compression,\n\u001b[32m   3811\u001b[39m     idle_wires=idle_wires,\n\u001b[32m   3812\u001b[39m     with_layout=with_layout,\n\u001b[32m   3813\u001b[39m     fold=fold,\n\u001b[32m   3814\u001b[39m     ax=ax,\n\u001b[32m   3815\u001b[39m     initial_state=initial_state,\n\u001b[32m   3816\u001b[39m     cregbundle=cregbundle,\n\u001b[32m   3817\u001b[39m     wire_order=wire_order,\n\u001b[32m   3818\u001b[39m     expr_len=expr_len,\n\u001b[32m   3819\u001b[39m )\n",
      "\u001b[36mFile \u001b[39m\u001b[32md:\\Users\\wukangrong\\anaconda3\\envs\\MSE800Env\\Lib\\site-packages\\qiskit\\visualization\\circuit\\circuit_visualization.py:339\u001b[39m, in \u001b[36mcircuit_drawer\u001b[39m\u001b[34m(circuit, scale, filename, style, output, interactive, plot_barriers, reverse_bits, justify, vertical_compression, idle_wires, with_layout, fold, ax, initial_state, cregbundle, wire_order, expr_len)\u001b[39m\n\u001b[32m    324\u001b[39m     \u001b[38;5;28;01mreturn\u001b[39;00m _generate_latex_source(\n\u001b[32m    325\u001b[39m         circuit,\n\u001b[32m    326\u001b[39m         filename=filename,\n\u001b[32m   (...)\u001b[39m\u001b[32m    336\u001b[39m         wire_order=complete_wire_order,\n\u001b[32m    337\u001b[39m     )\n\u001b[32m    338\u001b[39m \u001b[38;5;28;01melif\u001b[39;00m output == \u001b[33m\"\u001b[39m\u001b[33mmpl\u001b[39m\u001b[33m\"\u001b[39m:\n\u001b[32m--> \u001b[39m\u001b[32m339\u001b[39m     image = _matplotlib_circuit_drawer(\n\u001b[32m    340\u001b[39m         circuit,\n\u001b[32m    341\u001b[39m         scale=scale,\n\u001b[32m    342\u001b[39m         filename=filename,\n\u001b[32m    343\u001b[39m         style=style,\n\u001b[32m    344\u001b[39m         plot_barriers=plot_barriers,\n\u001b[32m    345\u001b[39m         reverse_bits=reverse_bits,\n\u001b[32m    346\u001b[39m         justify=justify,\n\u001b[32m    347\u001b[39m         idle_wires=idle_wires,\n\u001b[32m    348\u001b[39m         with_layout=with_layout,\n\u001b[32m    349\u001b[39m         fold=fold,\n\u001b[32m    350\u001b[39m         ax=ax,\n\u001b[32m    351\u001b[39m         initial_state=initial_state,\n\u001b[32m    352\u001b[39m         cregbundle=cregbundle,\n\u001b[32m    353\u001b[39m         wire_order=complete_wire_order,\n\u001b[32m    354\u001b[39m         expr_len=expr_len,\n\u001b[32m    355\u001b[39m     )\n\u001b[32m    356\u001b[39m \u001b[38;5;28;01melse\u001b[39;00m:\n\u001b[32m    357\u001b[39m     \u001b[38;5;28;01mraise\u001b[39;00m VisualizationError(\n\u001b[32m    358\u001b[39m         \u001b[33mf\u001b[39m\u001b[33m\"\u001b[39m\u001b[33mInvalid output type \u001b[39m\u001b[38;5;132;01m{\u001b[39;00moutput\u001b[38;5;132;01m}\u001b[39;00m\u001b[33m selected. The only valid choices \u001b[39m\u001b[33m\"\u001b[39m\n\u001b[32m    359\u001b[39m         \u001b[33m\"\u001b[39m\u001b[33mare text, latex, latex_source, and mpl\u001b[39m\u001b[33m\"\u001b[39m\n\u001b[32m    360\u001b[39m     )\n",
      "\u001b[36mFile \u001b[39m\u001b[32md:\\Users\\wukangrong\\anaconda3\\envs\\MSE800Env\\Lib\\site-packages\\qiskit\\visualization\\circuit\\circuit_visualization.py:719\u001b[39m, in \u001b[36m_matplotlib_circuit_drawer\u001b[39m\u001b[34m(circuit, scale, filename, style, plot_barriers, reverse_bits, justify, idle_wires, with_layout, fold, ax, initial_state, cregbundle, wire_order, expr_len)\u001b[39m\n\u001b[32m    716\u001b[39m \u001b[38;5;28;01mif\u001b[39;00m fold \u001b[38;5;129;01mis\u001b[39;00m \u001b[38;5;28;01mNone\u001b[39;00m:\n\u001b[32m    717\u001b[39m     fold = \u001b[32m25\u001b[39m\n\u001b[32m--> \u001b[39m\u001b[32m719\u001b[39m qcd = _matplotlib.MatplotlibDrawer(\n\u001b[32m    720\u001b[39m     qubits,\n\u001b[32m    721\u001b[39m     clbits,\n\u001b[32m    722\u001b[39m     nodes,\n\u001b[32m    723\u001b[39m     circuit,\n\u001b[32m    724\u001b[39m     scale=scale,\n\u001b[32m    725\u001b[39m     style=style,\n\u001b[32m    726\u001b[39m     reverse_bits=reverse_bits,\n\u001b[32m    727\u001b[39m     plot_barriers=plot_barriers,\n\u001b[32m    728\u001b[39m     fold=fold,\n\u001b[32m    729\u001b[39m     ax=ax,\n\u001b[32m    730\u001b[39m     initial_state=initial_state,\n\u001b[32m    731\u001b[39m     cregbundle=cregbundle,\n\u001b[32m    732\u001b[39m     with_layout=with_layout,\n\u001b[32m    733\u001b[39m     expr_len=expr_len,\n\u001b[32m    734\u001b[39m )\n\u001b[32m    735\u001b[39m \u001b[38;5;28;01mreturn\u001b[39;00m qcd.draw(filename)\n",
      "\u001b[36mFile \u001b[39m\u001b[32md:\\Users\\wukangrong\\anaconda3\\envs\\MSE800Env\\Lib\\site-packages\\qiskit\\utils\\classtools.py:111\u001b[39m, in \u001b[36m_WrappedMethod.__get__.<locals>.out\u001b[39m\u001b[34m(*args, **kwargs)\u001b[39m\n\u001b[32m    108\u001b[39m \u001b[38;5;129m@functools\u001b[39m.wraps(method)\n\u001b[32m    109\u001b[39m \u001b[38;5;28;01mdef\u001b[39;00m\u001b[38;5;250m \u001b[39m\u001b[34mout\u001b[39m(*args, **kwargs):\n\u001b[32m    110\u001b[39m     \u001b[38;5;28;01mfor\u001b[39;00m callback \u001b[38;5;129;01min\u001b[39;00m \u001b[38;5;28mself\u001b[39m._before:\n\u001b[32m--> \u001b[39m\u001b[32m111\u001b[39m         callback.\u001b[34m__get__\u001b[39m(obj, objtype)(*args, **kwargs)\n\u001b[32m    112\u001b[39m     retval = method(*args, **kwargs)\n\u001b[32m    113\u001b[39m     \u001b[38;5;28;01mfor\u001b[39;00m callback \u001b[38;5;129;01min\u001b[39;00m \u001b[38;5;28mself\u001b[39m._after:\n",
      "\u001b[36mFile \u001b[39m\u001b[32md:\\Users\\wukangrong\\anaconda3\\envs\\MSE800Env\\Lib\\site-packages\\qiskit\\utils\\lazy_tester.py:41\u001b[39m, in \u001b[36m_RequireNow.__call__\u001b[39m\u001b[34m(self, *_args, **_kwargs)\u001b[39m\n\u001b[32m     40\u001b[39m \u001b[38;5;28;01mdef\u001b[39;00m\u001b[38;5;250m \u001b[39m\u001b[34m__call__\u001b[39m(\u001b[38;5;28mself\u001b[39m, *_args, **_kwargs):\n\u001b[32m---> \u001b[39m\u001b[32m41\u001b[39m     \u001b[38;5;28mself\u001b[39m._tester.require_now(\u001b[38;5;28mself\u001b[39m._feature)\n",
      "\u001b[36mFile \u001b[39m\u001b[32md:\\Users\\wukangrong\\anaconda3\\envs\\MSE800Env\\Lib\\site-packages\\qiskit\\utils\\lazy_tester.py:221\u001b[39m, in \u001b[36mLazyDependencyManager.require_now\u001b[39m\u001b[34m(self, feature)\u001b[39m\n\u001b[32m    219\u001b[39m \u001b[38;5;28;01mif\u001b[39;00m \u001b[38;5;28mself\u001b[39m:\n\u001b[32m    220\u001b[39m     \u001b[38;5;28;01mreturn\u001b[39;00m\n\u001b[32m--> \u001b[39m\u001b[32m221\u001b[39m \u001b[38;5;28;01mraise\u001b[39;00m MissingOptionalLibraryError(\n\u001b[32m    222\u001b[39m     libname=\u001b[38;5;28mself\u001b[39m._name, name=feature, pip_install=\u001b[38;5;28mself\u001b[39m._install, msg=\u001b[38;5;28mself\u001b[39m._msg\n\u001b[32m    223\u001b[39m )\n",
      "\u001b[31mMissingOptionalLibraryError\u001b[39m: \"The 'pylatexenc' library is required to use 'MatplotlibDrawer'. You can install it with 'pip install pylatexenc'.\""
     ]
    }
   ],
   "source": [
    "from qiskit import QuantumCircuit\n",
    "from qiskit.visualization import plot_circuit_layout\n",
    "import matplotlib.pyplot as plt\n",
    "\n",
    "# Create a quantum circuit with 2 qubits\n",
    "qc = QuantumCircuit(2)\n",
    "\n",
    "# Apply Hadamard to qubit 0\n",
    "qc.h(0)\n",
    "\n",
    "# Apply CNOT with control=0, target=1\n",
    "qc.cx(0, 1)\n",
    "\n",
    "# Draw the circuit\n",
    "qc.draw('mpl')  # 'mpl' uses Matplotlib to render as image\n",
    "plt.show()\n"
   ]
  }
 ],
 "metadata": {
  "kernelspec": {
   "display_name": "MSE800Env",
   "language": "python",
   "name": "python3"
  },
  "language_info": {
   "codemirror_mode": {
    "name": "ipython",
    "version": 3
   },
   "file_extension": ".py",
   "mimetype": "text/x-python",
   "name": "python",
   "nbconvert_exporter": "python",
   "pygments_lexer": "ipython3",
   "version": "3.12.9"
  }
 },
 "nbformat": 4,
 "nbformat_minor": 5
}
